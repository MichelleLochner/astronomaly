{
 "cells": [
  {
   "cell_type": "code",
   "execution_count": 2,
   "metadata": {},
   "outputs": [],
   "source": [
    "from astronomaly.data_management import image_reader\n",
    "from astronomaly.preprocessing import image_preprocessing\n",
    "from astronomaly.feature_extraction import power_spectrum, wavelet_features, autoencoder\n",
    "from astronomaly.dimensionality_reduction import decomposition\n",
    "from astronomaly.anomaly_detection import isolation_forest, human_loop_learning\n",
    "from astronomaly.postprocessing import scaling\n",
    "from astronomaly.utils import utils\n",
    "\n",
    "import importlib\n",
    "import matplotlib.pyplot as plt\n",
    "import pywt\n",
    "import numpy as np\n",
    "import scipy\n",
    "from sklearn.manifold import TSNE\n",
    "import pandas as pd\n",
    "%matplotlib widget"
   ]
  },
  {
   "cell_type": "code",
   "execution_count": 3,
   "metadata": {},
   "outputs": [
    {
     "name": "stdout",
     "output_type": "stream",
     "text": [
      "Failed to import Keras. Deep learning will be unavailable.\n"
     ]
    },
    {
     "data": {
      "text/plain": [
       "<module 'astronomaly.utils.utils' from '/home/michelle/Project/Anomaly/astronomaly/astronomaly/utils/utils.py'>"
      ]
     },
     "execution_count": 3,
     "metadata": {},
     "output_type": "execute_result"
    }
   ],
   "source": [
    "importlib.reload(image_reader)\n",
    "importlib.reload(image_preprocessing)\n",
    "importlib.reload(power_spectrum)\n",
    "importlib.reload(wavelet_features)\n",
    "importlib.reload(autoencoder)\n",
    "importlib.reload(decomposition)\n",
    "importlib.reload(scaling)\n",
    "importlib.reload(isolation_forest)\n",
    "importlib.reload(human_loop_learning)\n",
    "importlib.reload(utils)"
   ]
  },
  {
   "cell_type": "code",
   "execution_count": 4,
   "metadata": {},
   "outputs": [
    {
     "name": "stdout",
     "output_type": "stream",
     "text": [
      "Reading image data from /home/michelle/BigData/Anomaly/ds9_slice1.fits...\n",
      "Done!\n"
     ]
    }
   ],
   "source": [
    "fitsfile = '/home/michelle/BigData/Anomaly/ds9_slice1.fits'\n",
    "\n",
    "astro_img = image_reader.AstroImage(fitsfile)"
   ]
  },
  {
   "cell_type": "code",
   "execution_count": 5,
   "metadata": {},
   "outputs": [
    {
     "name": "stdout",
     "output_type": "stream",
     "text": [
      "ds9_slice1\n"
     ]
    }
   ],
   "source": [
    "print(astro_img.name)"
   ]
  },
  {
   "cell_type": "code",
   "execution_count": 6,
   "metadata": {},
   "outputs": [],
   "source": [
    "# plt.figure()\n",
    "# plt.imshow(astro_img.image)"
   ]
  },
  {
   "cell_type": "code",
   "execution_count": 7,
   "metadata": {},
   "outputs": [
    {
     "data": {
      "application/vnd.jupyter.widget-view+json": {
       "model_id": "d73a93e666dd414bb556598ccc1127de",
       "version_major": 2,
       "version_minor": 0
      },
      "text/plain": [
       "FigureCanvasNbAgg()"
      ]
     },
     "metadata": {},
     "output_type": "display_data"
    },
    {
     "name": "stdout",
     "output_type": "stream",
     "text": [
      "60.888272842008675 -80.54455710658605\n"
     ]
    }
   ],
   "source": [
    "x0 = 3801\n",
    "y0 = 3176\n",
    "\n",
    "\n",
    "delt = 64\n",
    "cutout = astro_img.image[y0-delt:y0+delt,x0-delt:x0+delt]\n",
    "cutout = image_preprocessing.image_transform_log(cutout)\n",
    "\n",
    "\n",
    "x0 = 3801+20\n",
    "y0 = 3176+20\n",
    "\n",
    "cutout2 = astro_img.image[y0-delt:y0+delt,x0-delt:x0+delt]\n",
    "cutout2 = image_preprocessing.image_transform_log(cutout2)\n",
    "\n",
    "plt.figure()\n",
    "plt.subplot(121)\n",
    "plt.imshow(cutout, origin='lower')\n",
    "plt.subplot(122)\n",
    "plt.imshow(cutout2, origin='lower')\n",
    "plt.tight_layout()\n",
    "\n",
    "print(astro_img.coords[x0,0], astro_img.coords[y0,1])"
   ]
  },
  {
   "cell_type": "code",
   "execution_count": 8,
   "metadata": {},
   "outputs": [
    {
     "name": "stdout",
     "output_type": "stream",
     "text": [
      "Reading image data from /home/michelle/BigData/Anomaly/ds9_slice1.fits...\n",
      "Done!\n"
     ]
    }
   ],
   "source": [
    "pipeline_dict = image_reader.read_images('/home/michelle/BigData/Anomaly/')"
   ]
  },
  {
   "cell_type": "code",
   "execution_count": 9,
   "metadata": {},
   "outputs": [
    {
     "data": {
      "text/plain": [
       "dict_keys(['images'])"
      ]
     },
     "execution_count": 9,
     "metadata": {},
     "output_type": "execute_result"
    }
   ],
   "source": [
    "pipeline_dict.keys()"
   ]
  },
  {
   "cell_type": "code",
   "execution_count": 10,
   "metadata": {},
   "outputs": [
    {
     "name": "stdout",
     "output_type": "stream",
     "text": [
      "Generating cutouts...\n",
      "Done!\n"
     ]
    }
   ],
   "source": [
    "pipeline_dict = image_preprocessing.generate_cutouts(pipeline_dict, window_size=128, window_shift=128, transform_function=image_preprocessing.image_transform_log)"
   ]
  },
  {
   "cell_type": "code",
   "execution_count": 11,
   "metadata": {
    "scrolled": false
   },
   "outputs": [
    {
     "data": {
      "application/vnd.jupyter.widget-view+json": {
       "model_id": "c35573a939e6444db6f18a23e5076baa",
       "version_major": 2,
       "version_minor": 0
      },
      "text/plain": [
       "FigureCanvasNbAgg()"
      ]
     },
     "metadata": {},
     "output_type": "display_data"
    },
    {
     "data": {
      "text/plain": [
       "Text(0.5, 1.0, '0')"
      ]
     },
     "execution_count": 11,
     "metadata": {},
     "output_type": "execute_result"
    }
   ],
   "source": [
    "current_ind = 0\n",
    "\n",
    "def onkeypress(event):\n",
    "    global current_ind\n",
    "    plt.gcf()\n",
    "    if event.key=='right' and current_ind<len(df):\n",
    "        current_ind += 1\n",
    "\n",
    "    elif event.key=='left' and current_ind>0:\n",
    "        current_ind -= 1\n",
    "    fact = 2\n",
    "    #toplot = img[x0-window_size*fact:x0+window_size*fact, y0-window_size*fact:y0+window_size*fact]\n",
    "    plt.clf()\n",
    "    event.canvas.figure.gca().imshow(pipeline_dict['cutouts'][current_ind])\n",
    "\n",
    "    plt.title(current_ind)\n",
    "    event.canvas.draw()\n",
    "\n",
    "fig = plt.figure()\n",
    "fig.canvas.mpl_connect('key_press_event', onkeypress)\n",
    "\n",
    "#plt.imshow(np.log(cutouts[ind]+np.abs(1.1*np.min(cutouts[ind]))))\n",
    "plt.imshow(pipeline_dict['cutouts'][current_ind])\n",
    "plt.title(current_ind)"
   ]
  },
  {
   "cell_type": "code",
   "execution_count": null,
   "metadata": {},
   "outputs": [],
   "source": []
  },
  {
   "cell_type": "code",
   "execution_count": 12,
   "metadata": {},
   "outputs": [
    {
     "name": "stdout",
     "output_type": "stream",
     "text": [
      "Extracting 2D PSD...\n",
      "Done!\n"
     ]
    }
   ],
   "source": [
    "pipeline_dict = power_spectrum.extract_features_psd2d(pipeline_dict, nbins='auto')"
   ]
  },
  {
   "cell_type": "code",
   "execution_count": 12,
   "metadata": {
    "scrolled": true
   },
   "outputs": [
    {
     "name": "stdout",
     "output_type": "stream",
     "text": [
      "Extracting wavelets...\n",
      "Done!\n"
     ]
    }
   ],
   "source": [
    "pipeline_dict = wavelet_features.extract_features_wavelets(pipeline_dict)"
   ]
  },
  {
   "cell_type": "code",
   "execution_count": 13,
   "metadata": {
    "scrolled": true
   },
   "outputs": [
    {
     "name": "stdout",
     "output_type": "stream",
     "text": [
      "Running autoencoder...\n",
      "WARNING:tensorflow:From /home/michelle/anaconda3/lib/python3.7/site-packages/tensorflow/python/framework/op_def_library.py:263: colocate_with (from tensorflow.python.framework.ops) is deprecated and will be removed in a future version.\n",
      "Instructions for updating:\n",
      "Colocations handled automatically by placer.\n",
      "WARNING:tensorflow:From /home/michelle/anaconda3/lib/python3.7/site-packages/tensorflow/python/ops/math_ops.py:3066: to_int32 (from tensorflow.python.ops.math_ops) is deprecated and will be removed in a future version.\n",
      "Instructions for updating:\n",
      "Use tf.cast instead.\n",
      "Trained autoencoder read from file.\n",
      "Encoding images...\n",
      "Done!\n"
     ]
    }
   ],
   "source": [
    "pipeline_dict = autoencoder.extract_features_autoencoder(pipeline_dict, model_file='autoencoder.h5')"
   ]
  },
  {
   "cell_type": "code",
   "execution_count": null,
   "metadata": {},
   "outputs": [],
   "source": []
  },
  {
   "cell_type": "code",
   "execution_count": 14,
   "metadata": {},
   "outputs": [
    {
     "name": "stdout",
     "output_type": "stream",
     "text": [
      "Running PCA...\n",
      "Total explained variance: 0.9546159551596857\n"
     ]
    }
   ],
   "source": [
    "pipeline_dict = decomposition.pca_decomp(pipeline_dict, 'features_psd2d', n_components=10)"
   ]
  },
  {
   "cell_type": "code",
   "execution_count": 15,
   "metadata": {
    "scrolled": true
   },
   "outputs": [
    {
     "name": "stdout",
     "output_type": "stream",
     "text": [
      "Running truncated SVD...\n",
      "Total explained variance: 0.9059018272049221\n"
     ]
    }
   ],
   "source": [
    "pipeline_dict = decomposition.truncated_svd_decomp(pipeline_dict, 'features_wavelets', 10)"
   ]
  },
  {
   "cell_type": "code",
   "execution_count": 15,
   "metadata": {},
   "outputs": [],
   "source": [
    "pipeline_dict = scaling.scale_features(pipeline_dict, 'features_psd2d_pca')"
   ]
  },
  {
   "cell_type": "code",
   "execution_count": 17,
   "metadata": {},
   "outputs": [],
   "source": [
    "pipeline_dict = scaling.scale_features(pipeline_dict, 'features_wavelets_trunc_svd')"
   ]
  },
  {
   "cell_type": "code",
   "execution_count": 18,
   "metadata": {},
   "outputs": [],
   "source": [
    "pipeline_dict = scaling.scale_features(pipeline_dict, 'features_autoencoder')"
   ]
  },
  {
   "cell_type": "code",
   "execution_count": 16,
   "metadata": {},
   "outputs": [
    {
     "name": "stdout",
     "output_type": "stream",
     "text": [
      "Running isolation forest...\n",
      "Done!\n"
     ]
    }
   ],
   "source": [
    "#scores = anomaly_detection.run_isolation_forest(reduced_wav, normalise_scores=True)\n",
    "#df = isolation_forest.run_isolation_forest(df, features_column_name='psd2d_features', normalise_scores=True)\n",
    "pipeline_dict = isolation_forest.run_isolation_forest(pipeline_dict, input_key='features_psd2d_pca_scaled')"
   ]
  },
  {
   "cell_type": "code",
   "execution_count": 20,
   "metadata": {},
   "outputs": [
    {
     "name": "stdout",
     "output_type": "stream",
     "text": [
      "Running isolation forest...\n",
      "Done!\n"
     ]
    }
   ],
   "source": [
    "pipeline_dict = isolation_forest.run_isolation_forest(pipeline_dict, input_key='features_wavelets_trunc_svd_scaled')"
   ]
  },
  {
   "cell_type": "code",
   "execution_count": 21,
   "metadata": {},
   "outputs": [
    {
     "name": "stdout",
     "output_type": "stream",
     "text": [
      "Running isolation forest...\n",
      "Done!\n"
     ]
    }
   ],
   "source": [
    "pipeline_dict = isolation_forest.run_isolation_forest(pipeline_dict, input_key='features_autoencoder_scaled')"
   ]
  },
  {
   "cell_type": "code",
   "execution_count": 17,
   "metadata": {},
   "outputs": [],
   "source": [
    "pipeline_dict = human_loop_learning.convert_anomaly_score(pipeline_dict, \n",
    "                                                          input_column='iforest_score_features_psd2d_pca_scaled', \n",
    "                                                          convert_integer=True)"
   ]
  },
  {
   "cell_type": "code",
   "execution_count": 38,
   "metadata": {},
   "outputs": [],
   "source": [
    "pipeline_dict = human_loop_learning.convert_anomaly_score(pipeline_dict, \n",
    "                                                          input_column='iforest_score_features_wavelets_trunc_svd_scaled', \n",
    "                                                          convert_integer=True)"
   ]
  },
  {
   "cell_type": "code",
   "execution_count": 39,
   "metadata": {},
   "outputs": [],
   "source": [
    "pipeline_dict = human_loop_learning.convert_anomaly_score(pipeline_dict, \n",
    "                                                          input_column='iforest_score_features_autoencoder_scaled', \n",
    "                                                          convert_integer=True)"
   ]
  },
  {
   "cell_type": "code",
   "execution_count": 40,
   "metadata": {},
   "outputs": [
    {
     "data": {
      "text/plain": [
       "dict_keys(['images', 'cutouts', 'metadata', 'features_psd2d', 'features_wavelets', 'features_autoencoder', 'features_psd2d_pca', 'features_psd2d_pca_object', 'features_wavelets_trunc_svd', 'features_wavelets_trunc_svd_object', 'features_psd2d_pca_scaled', 'features_wavelets_trunc_svd_scaled', 'features_autoencoder_scaled', 'ml_scores', 'iforest_object_features_psd2d_pca_scaled', 'iforest_object_features_wavelets_trunc_svd_scaled', 'iforest_object_features_autoencoder_scaled'])"
      ]
     },
     "execution_count": 40,
     "metadata": {},
     "output_type": "execute_result"
    }
   ],
   "source": [
    "pipeline_dict.keys()"
   ]
  },
  {
   "cell_type": "code",
   "execution_count": 18,
   "metadata": {
    "scrolled": true
   },
   "outputs": [
    {
     "data": {
      "text/plain": [
       "Index(['id', 'iforest_score_features_psd2d_pca_scaled',\n",
       "       'iforest_score_features_psd2d_pca_scaled_norm'],\n",
       "      dtype='object')"
      ]
     },
     "execution_count": 18,
     "metadata": {},
     "output_type": "execute_result"
    }
   ],
   "source": [
    "ml_df = pipeline_dict['ml_scores']\n",
    "ml_df.columns"
   ]
  },
  {
   "cell_type": "code",
   "execution_count": 19,
   "metadata": {},
   "outputs": [
    {
     "data": {
      "text/plain": [
       "TSNE(angle=0.5, early_exaggeration=12.0, init='random', learning_rate=200.0,\n",
       "     method='barnes_hut', metric='euclidean', min_grad_norm=1e-07,\n",
       "     n_components=2, n_iter=1000, n_iter_without_progress=300, perplexity=100,\n",
       "     random_state=None, verbose=0)"
      ]
     },
     "execution_count": 19,
     "metadata": {},
     "output_type": "execute_result"
    }
   ],
   "source": [
    "ts_psd = TSNE(perplexity=100)\n",
    "ts_psd.fit(pipeline_dict['features_psd2d_pca_scaled'])"
   ]
  },
  {
   "cell_type": "code",
   "execution_count": 23,
   "metadata": {
    "scrolled": false
   },
   "outputs": [
    {
     "data": {
      "application/vnd.jupyter.widget-view+json": {
       "model_id": "844f944ea2054ccb9c286c620f85b098",
       "version_major": 2,
       "version_minor": 0
      },
      "text/plain": [
       "FigureCanvasNbAgg()"
      ]
     },
     "metadata": {},
     "output_type": "display_data"
    },
    {
     "data": {
      "text/plain": [
       "<matplotlib.collections.PathCollection at 0x7fe3f81c2b70>"
      ]
     },
     "execution_count": 23,
     "metadata": {},
     "output_type": "execute_result"
    }
   ],
   "source": [
    "plt.figure()\n",
    "ts_x = ts_psd.embedding_[:,0]\n",
    "ts_y = ts_psd.embedding_[:,1]\n",
    "plt.scatter(ts_x, ts_y, c=pipeline_dict['ml_scores'].iforest_score_features_psd2d_pca_scaled_norm,\n",
    "            s=10, cmap='magma')"
   ]
  },
  {
   "cell_type": "code",
   "execution_count": 31,
   "metadata": {},
   "outputs": [
    {
     "data": {
      "text/plain": [
       "TSNE(angle=0.5, early_exaggeration=12.0, init='random', learning_rate=200.0,\n",
       "   method='barnes_hut', metric='euclidean', min_grad_norm=1e-07,\n",
       "   n_components=2, n_iter=1000, n_iter_without_progress=300,\n",
       "   perplexity=100, random_state=None, verbose=0)"
      ]
     },
     "execution_count": 31,
     "metadata": {},
     "output_type": "execute_result"
    }
   ],
   "source": [
    "ts_wave = TSNE(perplexity=100)\n",
    "ts_wave.fit(pipeline_dict['features_wavelets_trunc_svd_scaled'])"
   ]
  },
  {
   "cell_type": "code",
   "execution_count": 32,
   "metadata": {
    "scrolled": false
   },
   "outputs": [
    {
     "data": {
      "application/vnd.jupyter.widget-view+json": {
       "model_id": "4b30ab40c1eb4dc6b676bb9f2e6f5790",
       "version_major": 2,
       "version_minor": 0
      },
      "text/plain": [
       "FigureCanvasNbAgg()"
      ]
     },
     "metadata": {},
     "output_type": "display_data"
    },
    {
     "data": {
      "text/plain": [
       "<matplotlib.collections.PathCollection at 0x7f48ec1557b8>"
      ]
     },
     "execution_count": 32,
     "metadata": {},
     "output_type": "execute_result"
    }
   ],
   "source": [
    "plt.figure()\n",
    "ts_x = ts_wave.embedding_[:,0]\n",
    "ts_y = ts_wave.embedding_[:,1]\n",
    "plt.scatter(ts_x, ts_y, c=pipeline_dict['ml_scores'].iforest_score_features_wavelets_trunc_svd_scaled_norm,\n",
    "            s=10, cmap='magma')"
   ]
  },
  {
   "cell_type": "code",
   "execution_count": 33,
   "metadata": {},
   "outputs": [
    {
     "data": {
      "text/plain": [
       "TSNE(angle=0.5, early_exaggeration=12.0, init='random', learning_rate=200.0,\n",
       "   method='barnes_hut', metric='euclidean', min_grad_norm=1e-07,\n",
       "   n_components=2, n_iter=1000, n_iter_without_progress=300,\n",
       "   perplexity=100, random_state=None, verbose=0)"
      ]
     },
     "execution_count": 33,
     "metadata": {},
     "output_type": "execute_result"
    }
   ],
   "source": [
    "ts_autoenc = TSNE(perplexity=100)\n",
    "ts_autoenc.fit(pipeline_dict['features_autoencoder_scaled'])"
   ]
  },
  {
   "cell_type": "code",
   "execution_count": 41,
   "metadata": {},
   "outputs": [
    {
     "data": {
      "application/vnd.jupyter.widget-view+json": {
       "model_id": "c060abcfce4d49c08e4e9c5ce9d113da",
       "version_major": 2,
       "version_minor": 0
      },
      "text/plain": [
       "FigureCanvasNbAgg()"
      ]
     },
     "metadata": {},
     "output_type": "display_data"
    },
    {
     "data": {
      "text/plain": [
       "<matplotlib.colorbar.Colorbar at 0x7f48747a2278>"
      ]
     },
     "execution_count": 41,
     "metadata": {},
     "output_type": "execute_result"
    }
   ],
   "source": [
    "plt.figure()\n",
    "ts_x = ts_autoenc.embedding_[:,0]\n",
    "ts_y = ts_autoenc.embedding_[:,1]\n",
    "plt.scatter(ts_x, ts_y, c=pipeline_dict['ml_scores']['iforest_score_features_autoencoder_scaled_norm'],\n",
    "            s=10, cmap='magma')\n",
    "plt.colorbar()"
   ]
  },
  {
   "cell_type": "code",
   "execution_count": null,
   "metadata": {},
   "outputs": [],
   "source": []
  },
  {
   "cell_type": "code",
   "execution_count": 21,
   "metadata": {
    "scrolled": true
   },
   "outputs": [],
   "source": [
    "sorted_df = ml_df.sort_values('iforest_score_features_psd2d_pca_scaled_norm', ascending=False)\n",
    "#sorted_df = ml_df.sort_values('iforest_score_features_wavelets_trunc_svd_scaled_norm', ascending=False)\n",
    "# sorted_df = ml_df.sort_values('iforest_score_features_autoencoder_scaled_norm', ascending=False)"
   ]
  },
  {
   "cell_type": "code",
   "execution_count": 22,
   "metadata": {},
   "outputs": [
    {
     "data": {
      "application/vnd.jupyter.widget-view+json": {
       "model_id": "92da67c20c1b424084af2fd3766dfc50",
       "version_major": 2,
       "version_minor": 0
      },
      "text/plain": [
       "FigureCanvasNbAgg()"
      ]
     },
     "metadata": {},
     "output_type": "display_data"
    }
   ],
   "source": [
    "cycler = utils.ImageCycler(pipeline_dict['cutouts'].loc[list(sorted_df.id),:,:])\n",
    "cycler.cycle()"
   ]
  },
  {
   "cell_type": "code",
   "execution_count": 64,
   "metadata": {
    "scrolled": true
   },
   "outputs": [],
   "source": [
    "ids = list(ml_df.id[(ts_x>20)&(ts_y<-5)])"
   ]
  },
  {
   "cell_type": "code",
   "execution_count": 65,
   "metadata": {},
   "outputs": [],
   "source": [
    "short_df = ml_df.loc[ids]\n",
    "short_df.sort_values('iforest_score_features_autoencoder_scaled_norm', inplace=True, ascending=False)"
   ]
  },
  {
   "cell_type": "code",
   "execution_count": 66,
   "metadata": {},
   "outputs": [
    {
     "data": {
      "application/vnd.jupyter.widget-view+json": {
       "model_id": "50f74122f6a24dbc90ed6e98c78f7030",
       "version_major": 2,
       "version_minor": 0
      },
      "text/plain": [
       "FigureCanvasNbAgg()"
      ]
     },
     "metadata": {},
     "output_type": "display_data"
    }
   ],
   "source": [
    "cycler = utils.ImageCycler(pipeline_dict['cutouts'][list(short_df.id)])\n",
    "cycler.cycle()"
   ]
  },
  {
   "cell_type": "code",
   "execution_count": 210,
   "metadata": {},
   "outputs": [
    {
     "data": {
      "text/plain": [
       "FigureCanvasNbAgg()"
      ]
     },
     "metadata": {},
     "output_type": "display_data"
    }
   ],
   "source": [
    "#comp = pca_obj.components_[7]\n",
    "ind = 1\n",
    "comp = wav_feats[ind]\n",
    "\n",
    "reshaped_coeffs = feature_extraction.reshape_swt2_coefficients(comp, 2, (128,128))\n",
    "lev = 0\n",
    "plt.figure()\n",
    "plt.subplot(221)\n",
    "plt.imshow(reshaped_coeffs[lev][0])\n",
    "\n",
    "plt.subplot(222)\n",
    "plt.imshow(reshaped_coeffs[lev][1][0])\n",
    "plt.subplot(223)\n",
    "plt.imshow(reshaped_coeffs[lev][1][1])\n",
    "plt.subplot(224)\n",
    "plt.imshow(reshaped_coeffs[lev][1][2])\n",
    "plt.tight_layout()"
   ]
  },
  {
   "cell_type": "code",
   "execution_count": 195,
   "metadata": {},
   "outputs": [],
   "source": [
    "plt.close('all')"
   ]
  },
  {
   "cell_type": "code",
   "execution_count": 211,
   "metadata": {},
   "outputs": [
    {
     "data": {
      "text/plain": [
       "FigureCanvasNbAgg()"
      ]
     },
     "metadata": {},
     "output_type": "display_data"
    },
    {
     "data": {
      "text/plain": [
       "[<matplotlib.lines.Line2D at 0x7f1aa25d1470>]"
      ]
     },
     "execution_count": 211,
     "metadata": {},
     "output_type": "execute_result"
    }
   ],
   "source": [
    "plt.figure()\n",
    "plt.plot(reduced_wav[ind])"
   ]
  },
  {
   "cell_type": "code",
   "execution_count": null,
   "metadata": {},
   "outputs": [],
   "source": []
  },
  {
   "cell_type": "markdown",
   "metadata": {},
   "source": [
    "## Test PSD"
   ]
  },
  {
   "cell_type": "code",
   "execution_count": 145,
   "metadata": {},
   "outputs": [
    {
     "data": {
      "text/plain": [
       "FigureCanvasNbAgg()"
      ]
     },
     "metadata": {},
     "output_type": "display_data"
    },
    {
     "data": {
      "text/plain": [
       "<matplotlib.image.AxesImage at 0x7fe13fbf2518>"
      ]
     },
     "execution_count": 145,
     "metadata": {},
     "output_type": "execute_result"
    }
   ],
   "source": [
    "x = np.linspace(-np.pi,np.pi,600)\n",
    "X,Y = np.meshgrid(x,x)\n",
    "x0 = 0\n",
    "#Z = np.sin(np.sqrt((X-x0)**2+(Y-x0)**2)*8)\n",
    "Z = np.sin(X*20)\n",
    "plt.figure()\n",
    "plt.imshow(Z)"
   ]
  },
  {
   "cell_type": "code",
   "execution_count": 146,
   "metadata": {},
   "outputs": [
    {
     "data": {
      "text/plain": [
       "FigureCanvasNbAgg()"
      ]
     },
     "metadata": {},
     "output_type": "display_data"
    },
    {
     "data": {
      "text/plain": [
       "[<matplotlib.lines.Line2D at 0x7fe14403f198>]"
      ]
     },
     "execution_count": 146,
     "metadata": {},
     "output_type": "execute_result"
    }
   ],
   "source": [
    "nbins = 100\n",
    "psd_test= feature_extraction.psd_2d(Z, nbins=nbins)\n",
    "plt.figure()\n",
    "rwidth = len(x)/2/nbins\n",
    "plt.plot(np.arange(rwidth, len(x)/2+rwidth, rwidth),psd_test)"
   ]
  },
  {
   "cell_type": "code",
   "execution_count": 127,
   "metadata": {},
   "outputs": [],
   "source": [
    "plt.close('all')"
   ]
  },
  {
   "cell_type": "markdown",
   "metadata": {},
   "source": [
    "# Test wavelets"
   ]
  },
  {
   "cell_type": "code",
   "execution_count": 14,
   "metadata": {},
   "outputs": [],
   "source": [
    "wav_feats = wavelet_features.wavelet_decomposition(cutout)"
   ]
  },
  {
   "cell_type": "code",
   "execution_count": 15,
   "metadata": {},
   "outputs": [],
   "source": [
    "coeffs = wavelet_features.reshape_swt2_coefficients(wav_feats, 2, cutout.shape)"
   ]
  },
  {
   "cell_type": "code",
   "execution_count": 16,
   "metadata": {},
   "outputs": [],
   "source": [
    "reconstruction = pywt.iswt2(coeffs, 'sym2')"
   ]
  },
  {
   "cell_type": "code",
   "execution_count": 17,
   "metadata": {},
   "outputs": [
    {
     "data": {
      "application/vnd.jupyter.widget-view+json": {
       "model_id": "",
       "version_major": 2,
       "version_minor": 0
      },
      "text/plain": [
       "FigureCanvasNbAgg()"
      ]
     },
     "metadata": {},
     "output_type": "display_data"
    },
    {
     "data": {
      "text/plain": [
       "<matplotlib.image.AxesImage at 0x7f5689f6af28>"
      ]
     },
     "execution_count": 17,
     "metadata": {},
     "output_type": "execute_result"
    }
   ],
   "source": [
    "plt.figure()\n",
    "plt.subplot(1,2,1)\n",
    "plt.imshow(cutout)\n",
    "plt.subplot(1,2,2)\n",
    "plt.imshow(reconstruction)"
   ]
  },
  {
   "cell_type": "markdown",
   "metadata": {},
   "source": [
    "# Scratch"
   ]
  },
  {
   "cell_type": "code",
   "execution_count": 10,
   "metadata": {},
   "outputs": [],
   "source": [
    "from astronomaly.data_management import image_reader"
   ]
  },
  {
   "cell_type": "code",
   "execution_count": 16,
   "metadata": {},
   "outputs": [
    {
     "data": {
      "text/plain": [
       "<module 'astronomaly.data_management.image_reader' from '/home/michelle/Project/Anomaly/astronomaly/astronomaly/data_management/image_reader.py'>"
      ]
     },
     "execution_count": 16,
     "metadata": {},
     "output_type": "execute_result"
    }
   ],
   "source": [
    "importlib.reload(image_reader)"
   ]
  },
  {
   "cell_type": "code",
   "execution_count": 18,
   "metadata": {},
   "outputs": [
    {
     "name": "stdout",
     "output_type": "stream",
     "text": [
      "Reading image data from /home/michelle/BigData/Anomaly/ds9_slice1.fits...\n",
      "Done!\n",
      "[<astronomaly.data_management.image_reader.AstroImage object at 0x7fc66148d6a0>]\n"
     ]
    }
   ],
   "source": [
    "pth = '/home/michelle/BigData/Anomaly'\n",
    "output_dict = image_reader.read_images(pth)"
   ]
  },
  {
   "cell_type": "code",
   "execution_count": 20,
   "metadata": {},
   "outputs": [
    {
     "data": {
      "text/plain": [
       "[<astronomaly.data_management.image_reader.AstroImage at 0x7fc66148d6a0>]"
      ]
     },
     "execution_count": 20,
     "metadata": {},
     "output_type": "execute_result"
    }
   ],
   "source": [
    "output_dict['images']"
   ]
  },
  {
   "cell_type": "code",
   "execution_count": 44,
   "metadata": {},
   "outputs": [
    {
     "data": {
      "text/plain": [
       "<module 'astronomaly.preprocessing.image_preprocessing' from '/home/michelle/Project/Anomaly/astronomaly/astronomaly/preprocessing/image_preprocessing.py'>"
      ]
     },
     "execution_count": 44,
     "metadata": {},
     "output_type": "execute_result"
    }
   ],
   "source": [
    "importlib.reload(image_preprocessing)"
   ]
  },
  {
   "cell_type": "code",
   "execution_count": 45,
   "metadata": {},
   "outputs": [
    {
     "name": "stdout",
     "output_type": "stream",
     "text": [
      "Generating cutouts...\n",
      "Done!\n"
     ]
    }
   ],
   "source": [
    "output_dict = image_preprocessing.generate_cutouts(output_dict)\n"
   ]
  },
  {
   "cell_type": "code",
   "execution_count": 47,
   "metadata": {
    "scrolled": true
   },
   "outputs": [],
   "source": [
    "df = output_dict['data']"
   ]
  },
  {
   "cell_type": "code",
   "execution_count": 52,
   "metadata": {},
   "outputs": [],
   "source": [
    "cutouts = output_dict['cutouts']"
   ]
  },
  {
   "cell_type": "code",
   "execution_count": 58,
   "metadata": {},
   "outputs": [],
   "source": [
    "x = xarray.DataArray(cutouts, coords = {'id':df.id}, dims=['id','dim_1','dim_2'])"
   ]
  },
  {
   "cell_type": "code",
   "execution_count": 63,
   "metadata": {},
   "outputs": [
    {
     "data": {
      "text/plain": [
       "(128, 128)"
      ]
     },
     "execution_count": 63,
     "metadata": {},
     "output_type": "execute_result"
    }
   ],
   "source": [
    "x[0].shape"
   ]
  },
  {
   "cell_type": "code",
   "execution_count": 67,
   "metadata": {},
   "outputs": [],
   "source": [
    "shp = (64.5,128)"
   ]
  },
  {
   "cell_type": "code",
   "execution_count": 68,
   "metadata": {},
   "outputs": [
    {
     "data": {
      "text/plain": [
       "32.0"
      ]
     },
     "execution_count": 68,
     "metadata": {},
     "output_type": "execute_result"
    }
   ],
   "source": [
    "min(shp)//2"
   ]
  },
  {
   "cell_type": "code",
   "execution_count": null,
   "metadata": {},
   "outputs": [],
   "source": [
    "xarray.full_like()"
   ]
  }
 ],
 "metadata": {
  "kernelspec": {
   "display_name": "Python 3",
   "language": "python",
   "name": "python3"
  },
  "language_info": {
   "codemirror_mode": {
    "name": "ipython",
    "version": 3
   },
   "file_extension": ".py",
   "mimetype": "text/x-python",
   "name": "python",
   "nbconvert_exporter": "python",
   "pygments_lexer": "ipython3",
   "version": "3.6.8"
  }
 },
 "nbformat": 4,
 "nbformat_minor": 2
}
